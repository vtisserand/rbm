{
 "cells": [
  {
   "cell_type": "code",
   "execution_count": 1,
   "id": "9bb89b3f",
   "metadata": {},
   "outputs": [],
   "source": [
    "import os\n",
    "\n",
    "notebook_dir = os.getcwd()\n",
    "project_root = os.path.abspath(os.path.join(notebook_dir, '../'))\n",
    "os.chdir(project_root)\n",
    "\n",
    "import sys\n",
    "sys.path.append(project_root)\n",
    "\n",
    "%load_ext autoreload\n",
    "%autoreload 2"
   ]
  },
  {
   "cell_type": "code",
   "execution_count": 36,
   "id": "d216e127",
   "metadata": {},
   "outputs": [],
   "source": [
    "import numpy as np\n",
    "import pandas as pd\n",
    "import seaborn as sns\n",
    "import matplotlib.pyplot as plt\n",
    "\n",
    "from torch.utils.data import DataLoader, TensorDataset\n",
    "\n",
    "from src.config import CCY_PAIRS, START_DATE, END_DATE\n",
    "from src.data_utils import get_fx_data, compute_log_ret, to_binary, to_float, get_min_max_info\n",
    "from src.models.gan import GAN, preprocess_data"
   ]
  },
  {
   "cell_type": "code",
   "execution_count": 19,
   "id": "68536659",
   "metadata": {},
   "outputs": [
    {
     "name": "stdout",
     "output_type": "stream",
     "text": [
      "[*********************100%%**********************]  1 of 1 completed\n",
      "[*********************100%%**********************]  1 of 1 completed\n",
      "[*********************100%%**********************]  1 of 1 completed\n",
      "[*********************100%%**********************]  1 of 1 completed\n",
      "[*********************100%%**********************]  1 of 1 completed\n",
      "[*********************100%%**********************]  1 of 1 completed\n",
      "[*********************100%%**********************]  1 of 1 completed\n",
      "[*********************100%%**********************]  1 of 1 completed\n",
      "[*********************100%%**********************]  1 of 1 completed\n"
     ]
    }
   ],
   "source": [
    "df = get_fx_data(CCY_PAIRS, START_DATE, END_DATE, df=True)\n",
    "log_ret_df = compute_log_ret(df)"
   ]
  },
  {
   "cell_type": "code",
   "execution_count": 20,
   "id": "1da4b519",
   "metadata": {},
   "outputs": [],
   "source": [
    "log_ret_tensor = preprocess_data(log_ret_df)"
   ]
  },
  {
   "cell_type": "code",
   "execution_count": 37,
   "id": "ca5f61c1",
   "metadata": {},
   "outputs": [],
   "source": [
    "# Define parameters\n",
    "latent_dim = 100\n",
    "output_dim = log_ret_tensor.shape[1]\n",
    "epochs = 200\n",
    "batch_size = 128"
   ]
  },
  {
   "cell_type": "code",
   "execution_count": 38,
   "id": "82e20ac9",
   "metadata": {},
   "outputs": [],
   "source": [
    "data_loader = DataLoader(TensorDataset(log_ret_tensor), batch_size=batch_size, shuffle=True)"
   ]
  },
  {
   "cell_type": "code",
   "execution_count": 41,
   "id": "178d508e",
   "metadata": {},
   "outputs": [],
   "source": [
    "gan = GAN(latent_dim, output_dim)"
   ]
  },
  {
   "cell_type": "code",
   "execution_count": 42,
   "id": "08f2a3a0",
   "metadata": {},
   "outputs": [
    {
     "name": "stdout",
     "output_type": "stream",
     "text": [
      "Epoch [0/200], Batch [28/29], D Loss: 0.8731, G Loss: 0.7128\n",
      "Epoch [1/200], Batch [28/29], D Loss: 0.8111, G Loss: 0.6970\n",
      "Epoch [2/200], Batch [28/29], D Loss: 0.7841, G Loss: 0.6963\n",
      "Epoch [10/200], Batch [28/29], D Loss: 0.5525, G Loss: 0.9354\n",
      "Epoch [20/200], Batch [28/29], D Loss: 0.2629, G Loss: 1.5613\n",
      "Epoch [30/200], Batch [28/29], D Loss: 0.1316, G Loss: 2.2224\n",
      "Epoch [40/200], Batch [28/29], D Loss: 0.0661, G Loss: 2.8889\n",
      "Epoch [50/200], Batch [28/29], D Loss: 0.0398, G Loss: 3.3728\n",
      "Epoch [60/200], Batch [28/29], D Loss: 0.0236, G Loss: 3.9049\n",
      "Epoch [70/200], Batch [28/29], D Loss: 0.0158, G Loss: 4.2676\n",
      "Epoch [80/200], Batch [28/29], D Loss: 0.0113, G Loss: 4.5314\n",
      "Epoch [90/200], Batch [28/29], D Loss: 0.0085, G Loss: 4.9031\n",
      "Epoch [100/200], Batch [28/29], D Loss: 0.0061, G Loss: 5.2548\n",
      "Epoch [110/200], Batch [28/29], D Loss: 0.0044, G Loss: 5.5828\n",
      "Epoch [120/200], Batch [28/29], D Loss: 0.0037, G Loss: 5.7117\n",
      "Epoch [130/200], Batch [28/29], D Loss: 0.0028, G Loss: 5.9948\n",
      "Epoch [140/200], Batch [28/29], D Loss: 0.0021, G Loss: 6.3143\n",
      "Epoch [150/200], Batch [28/29], D Loss: 0.0017, G Loss: 6.5066\n",
      "Epoch [160/200], Batch [28/29], D Loss: 0.0013, G Loss: 6.8065\n",
      "Epoch [170/200], Batch [28/29], D Loss: 0.0011, G Loss: 6.9369\n",
      "Epoch [180/200], Batch [28/29], D Loss: 0.0009, G Loss: 7.0862\n",
      "Epoch [190/200], Batch [28/29], D Loss: 0.0008, G Loss: 7.2808\n"
     ]
    }
   ],
   "source": [
    "gan.fit(data_loader, epochs, batch_size)"
   ]
  },
  {
   "cell_type": "code",
   "execution_count": 43,
   "id": "bfe141d6",
   "metadata": {},
   "outputs": [],
   "source": [
    "generated_samples = gan.generate_samples(1000)"
   ]
  },
  {
   "cell_type": "code",
   "execution_count": 44,
   "id": "6811eec2",
   "metadata": {},
   "outputs": [
    {
     "data": {
      "text/plain": [
       "array([[ 0.54090154,  0.46606746, -0.13051216, ...,  0.26923588,\n",
       "        -0.09128861,  0.43420127],\n",
       "       [ 0.96547794,  0.99863696,  0.9865766 , ...,  0.55221313,\n",
       "        -0.57674545,  0.78698367],\n",
       "       [ 0.82606834,  0.8267312 ,  0.16979527, ...,  0.42192906,\n",
       "        -0.4525606 ,  0.6440134 ],\n",
       "       ...,\n",
       "       [ 0.67772   ,  0.8078917 ,  0.61306846, ...,  0.24821432,\n",
       "        -0.23107502,  0.29164436],\n",
       "       [ 0.0815408 ,  0.07602684, -0.41747794, ...,  0.49129   ,\n",
       "         0.30396533,  0.5869345 ],\n",
       "       [ 0.8156811 ,  0.9638678 ,  0.8339657 , ...,  0.41049105,\n",
       "        -0.2883414 ,  0.5227554 ]], dtype=float32)"
      ]
     },
     "execution_count": 44,
     "metadata": {},
     "output_type": "execute_result"
    }
   ],
   "source": [
    "import pangenerated_samples"
   ]
  },
  {
   "cell_type": "code",
   "execution_count": null,
   "id": "8610810c",
   "metadata": {},
   "outputs": [],
   "source": []
  },
  {
   "cell_type": "code",
   "execution_count": null,
   "id": "5f9a7dda",
   "metadata": {},
   "outputs": [],
   "source": []
  }
 ],
 "metadata": {
  "kernelspec": {
   "display_name": "Python 3.11",
   "language": "python",
   "name": "term"
  },
  "language_info": {
   "codemirror_mode": {
    "name": "ipython",
    "version": 3
   },
   "file_extension": ".py",
   "mimetype": "text/x-python",
   "name": "python",
   "nbconvert_exporter": "python",
   "pygments_lexer": "ipython3",
   "version": "3.11.2"
  }
 },
 "nbformat": 4,
 "nbformat_minor": 5
}
