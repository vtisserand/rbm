{
 "cells": [
  {
   "cell_type": "code",
   "execution_count": null,
   "id": "e95f3728",
   "metadata": {},
   "outputs": [],
   "source": []
  }
 ],
 "metadata": {
  "kernelspec": {
   "display_name": "Python 3.11",
   "language": "python",
   "name": "term"
  }
 },
 "nbformat": 4,
 "nbformat_minor": 5
}
